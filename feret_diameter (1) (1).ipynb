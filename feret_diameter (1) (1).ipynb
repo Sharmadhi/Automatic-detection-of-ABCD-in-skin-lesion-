{
  "nbformat": 4,
  "nbformat_minor": 0,
  "metadata": {
    "colab": {
      "name": "feret_diameter.ipynb",
      "provenance": [],
      "collapsed_sections": []
    },
    "kernelspec": {
      "name": "python3",
      "display_name": "Python 3"
    },
    "language_info": {
      "name": "python"
    }
  },
  "cells": [
    {
      "cell_type": "code",
      "source": [
        "from google.colab import drive\n",
        "drive.mount('/content/drive')"
      ],
      "metadata": {
        "colab": {
          "base_uri": "https://localhost:8080/"
        },
        "id": "5KyumdMITml2",
        "outputId": "2d5d1003-d4d6-4cd5-b0c1-2fd22a9f703d"
      },
      "execution_count": null,
      "outputs": [
        {
          "output_type": "stream",
          "name": "stdout",
          "text": [
            "Mounted at /content/drive\n"
          ]
        }
      ]
    },
    {
      "cell_type": "code",
      "metadata": {
        "id": "9I1oJMzXqxAp",
        "colab": {
          "base_uri": "https://localhost:8080/",
          "height": 442
        },
        "outputId": "86377add-988b-4f47-cfe7-3ef877566f5f"
      },
      "source": [
        "import numpy as np\n",
        "import skimage.morphology\n",
        "\n",
        "import io\n",
        "import numpy as np    \n",
        "from PIL import Image\n",
        "\n",
        "\n",
        "IMG_PATH = \"/content/drive/MyDrive/isic-challenge-2018/ISIC2018_Task1_Training_GroundTruth/ISIC_0000001_segmentation.png\"\n",
        "\n",
        "image_string = open(IMG_PATH, 'rb').read()\n",
        "img = Image.open(io.BytesIO(image_string))\n",
        "arr = np.asarray(img)\n",
        "print(arr)\n",
        "\n",
        "\n",
        "def get_min_max_feret_from_mask(mask_im):\n",
        "    \"\"\" given a binary mask, calculate the minimum and maximum\n",
        "    feret diameter of the foreground object. This is done\n",
        "    by calculating the outline of the object, transform\n",
        "    the pixel coordinates of the outline into a list of\n",
        "    points and then calling \n",
        "    Parameters:\n",
        "        mask_im: binary numpy array\n",
        "    \"\"\"\n",
        "    eroded = skimage.morphology.erosion(mask_im)\n",
        "    outline = mask_im ^ eroded\n",
        "    boundary_points = np.argwhere(outline > 0)\n",
        "    # convert numpy array to a list of (x,y) tuple points\n",
        "    boundary_point_list = list(map(list, list(boundary_points)))\n",
        "    return min_max_feret(boundary_point_list)\n",
        "\n",
        "print(get_min_max_feret_from_mask(arr))\n"
      ],
      "execution_count": null,
      "outputs": [
        {
          "output_type": "stream",
          "name": "stdout",
          "text": [
            "[[0 0 0 ... 0 0 0]\n",
            " [0 0 0 ... 0 0 0]\n",
            " [0 0 0 ... 0 0 0]\n",
            " ...\n",
            " [0 0 0 ... 0 0 0]\n",
            " [0 0 0 ... 0 0 0]\n",
            " [0 0 0 ... 0 0 0]]\n"
          ]
        },
        {
          "output_type": "error",
          "ename": "NameError",
          "evalue": "ignored",
          "traceback": [
            "\u001b[0;31m---------------------------------------------------------------------------\u001b[0m",
            "\u001b[0;31mNameError\u001b[0m                                 Traceback (most recent call last)",
            "\u001b[0;32m<ipython-input-3-bca3c135f867>\u001b[0m in \u001b[0;36m<module>\u001b[0;34m()\u001b[0m\n\u001b[1;32m     31\u001b[0m     \u001b[0;32mreturn\u001b[0m \u001b[0mget_min_max_feret\u001b[0m\u001b[0;34m(\u001b[0m\u001b[0mboundary_point_list\u001b[0m\u001b[0;34m)\u001b[0m\u001b[0;34m\u001b[0m\u001b[0;34m\u001b[0m\u001b[0m\n\u001b[1;32m     32\u001b[0m \u001b[0;34m\u001b[0m\u001b[0m\n\u001b[0;32m---> 33\u001b[0;31m \u001b[0mprint\u001b[0m\u001b[0;34m(\u001b[0m\u001b[0mget_min_max_feret_from_mask\u001b[0m\u001b[0;34m(\u001b[0m\u001b[0marr\u001b[0m\u001b[0;34m)\u001b[0m\u001b[0;34m)\u001b[0m\u001b[0;34m\u001b[0m\u001b[0;34m\u001b[0m\u001b[0m\n\u001b[0m",
            "\u001b[0;32m<ipython-input-3-bca3c135f867>\u001b[0m in \u001b[0;36mget_min_max_feret_from_mask\u001b[0;34m(mask_im)\u001b[0m\n\u001b[1;32m     29\u001b[0m     \u001b[0;31m# convert numpy array to a list of (x,y) tuple points\u001b[0m\u001b[0;34m\u001b[0m\u001b[0;34m\u001b[0m\u001b[0;34m\u001b[0m\u001b[0m\n\u001b[1;32m     30\u001b[0m     \u001b[0mboundary_point_list\u001b[0m \u001b[0;34m=\u001b[0m \u001b[0mlist\u001b[0m\u001b[0;34m(\u001b[0m\u001b[0mmap\u001b[0m\u001b[0;34m(\u001b[0m\u001b[0mlist\u001b[0m\u001b[0;34m,\u001b[0m \u001b[0mlist\u001b[0m\u001b[0;34m(\u001b[0m\u001b[0mboundary_points\u001b[0m\u001b[0;34m)\u001b[0m\u001b[0;34m)\u001b[0m\u001b[0;34m)\u001b[0m\u001b[0;34m\u001b[0m\u001b[0;34m\u001b[0m\u001b[0m\n\u001b[0;32m---> 31\u001b[0;31m     \u001b[0;32mreturn\u001b[0m \u001b[0mget_min_max_feret\u001b[0m\u001b[0;34m(\u001b[0m\u001b[0mboundary_point_list\u001b[0m\u001b[0;34m)\u001b[0m\u001b[0;34m\u001b[0m\u001b[0;34m\u001b[0m\u001b[0m\n\u001b[0m\u001b[1;32m     32\u001b[0m \u001b[0;34m\u001b[0m\u001b[0m\n\u001b[1;32m     33\u001b[0m \u001b[0mprint\u001b[0m\u001b[0;34m(\u001b[0m\u001b[0mget_min_max_feret_from_mask\u001b[0m\u001b[0;34m(\u001b[0m\u001b[0marr\u001b[0m\u001b[0;34m)\u001b[0m\u001b[0;34m)\u001b[0m\u001b[0;34m\u001b[0m\u001b[0;34m\u001b[0m\u001b[0m\n",
            "\u001b[0;31mNameError\u001b[0m: name 'get_min_max_feret' is not defined"
          ]
        }
      ]
    },
    {
      "cell_type": "code",
      "source": [
        ""
      ],
      "metadata": {
        "id": "nsaX31kwU-HF"
      },
      "execution_count": null,
      "outputs": []
    }
  ]
}