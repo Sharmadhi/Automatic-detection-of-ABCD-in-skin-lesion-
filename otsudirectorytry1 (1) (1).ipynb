{
  "nbformat": 4,
  "nbformat_minor": 0,
  "metadata": {
    "colab": {
      "name": "otsudirectorytry1.ipynb",
      "provenance": []
    },
    "kernelspec": {
      "name": "python3",
      "display_name": "Python 3"
    },
    "language_info": {
      "name": "python"
    }
  },
  "cells": [
    {
      "cell_type": "code",
      "metadata": {
        "colab": {
          "base_uri": "https://localhost:8080/"
        },
        "id": "HVGUk12f9UK2",
        "outputId": "25d42048-808c-43b6-9d4b-6b49999d4e5b"
      },
      "source": [
        "from google.colab import drive\n",
        "drive.mount('/content/drive/')"
      ],
      "execution_count": null,
      "outputs": [
        {
          "output_type": "stream",
          "name": "stdout",
          "text": [
            "Mounted at /content/drive/\n"
          ]
        }
      ]
    },
    {
      "cell_type": "code",
      "metadata": {
        "id": "0w9E1C3o_qpH"
      },
      "source": [
        "import cv2\n",
        "import glob"
      ],
      "execution_count": null,
      "outputs": []
    },
    {
      "cell_type": "code",
      "metadata": {
        "id": "-TSAguOzDKMf"
      },
      "source": [
        "import math\n",
        "import numpy as np\n",
        "from matplotlib import pyplot as plt\n",
        "from PIL import Image"
      ],
      "execution_count": null,
      "outputs": []
    },
    {
      "cell_type": "code",
      "metadata": {
        "id": "GlaUQtF8DSGD"
      },
      "source": [
        "from skimage import img_as_ubyte"
      ],
      "execution_count": null,
      "outputs": []
    },
    {
      "cell_type": "code",
      "metadata": {
        "id": "u02nAxC3Dg-H"
      },
      "source": [
        "path = \"/content/drive/MyDrive/isic-challenge-2018/ISIC2018_Task1-2_Training_Input/*.*\"\n",
        "img_number = 1"
      ],
      "execution_count": null,
      "outputs": []
    },
    {
      "cell_type": "code",
      "metadata": {
        "colab": {
          "base_uri": "https://localhost:8080/",
          "height": 1000
        },
        "id": "e0BtGjDOEG49",
        "outputId": "33b9e1cf-db94-4123-cc7d-acd41aa8486b"
      },
      "source": [
        "for file in glob.glob(path):\n",
        "  print(file)\n",
        "  img = cv2.imread(file,0)\n",
        "\n",
        "\n",
        "  threshold_values = {}\n",
        "  h = [1]\n",
        "\n",
        "  def Hist(img):\n",
        "    row, col = img.shape\n",
        "    y = np.zeros(256)\n",
        "    for i in range(0,row):\n",
        "        for j in range(0,col):\n",
        "          y[img[i,j]] += 1\n",
        "    x = np.arange(0,256)\n",
        "    plt.bar(x, y, color='b', width=5, align='center', alpha=0.25)\n",
        "    plt.show()\n",
        "    return y\n",
        "\n",
        "  def regenerate_img(img, threshold):\n",
        "      row, col = img.shape\n",
        "      y = np.zeros((row, col))\n",
        "      for i in range(0,row):\n",
        "          for j in range(0,col):\n",
        "              if img[i,j] >= threshold:\n",
        "                  y[i,j] = 255\n",
        "              else:\n",
        "                  y[i,j] = 0\n",
        "      return y\n",
        "\n",
        "    \n",
        "  def countPixel(h):\n",
        "      cnt = 0\n",
        "      for i in range(0, len(h)):\n",
        "          if h[i]>0:\n",
        "            cnt += h[i]\n",
        "      return cnt\n",
        "\n",
        "  def wieght(s, e):\n",
        "      w = 0\n",
        "      for i in range(s, e):\n",
        "          w += h[i]\n",
        "      return w\n",
        "\n",
        "  def mean(s, e):\n",
        "      m = 0\n",
        "      w = wieght(s, e)\n",
        "      for i in range(s, e):\n",
        "          m += h[i] * i\n",
        "    \n",
        "      return m/float(w)\n",
        "\n",
        "  def variance(s, e):\n",
        "      v = 0\n",
        "      m = mean(s, e)\n",
        "      w = wieght(s, e)\n",
        "      for i in range(s, e):\n",
        "          v += ((i - m) **2) * h[i]\n",
        "      v /= w\n",
        "      return v\n",
        "            \n",
        "  def threshold(h):\n",
        "      cnt = countPixel(h)\n",
        "      for i in range(1, len(h)):\n",
        "          vb = variance(0, i)\n",
        "          wb = wieght(0, i) / float(cnt)\n",
        "          mb = mean(0, i)\n",
        "        \n",
        "          vf = variance(i, len(h))\n",
        "          wf = wieght(i, len(h)) / float(cnt)\n",
        "          mf = mean(i, len(h))\n",
        "        \n",
        "          V2w = wb * (vb) + wf * (vf)\n",
        "          V2b = wb * wf * (mb - mf)**2\n",
        "        \n",
        "          fw = open(\"trace.txt\", \"a\")\n",
        "          fw.write('T='+ str(i) + \"\\n\")\n",
        "\n",
        "          fw.write('Wb='+ str(wb) + \"\\n\")\n",
        "          fw.write('Mb='+ str(mb) + \"\\n\")\n",
        "          fw.write('Vb='+ str(vb) + \"\\n\")\n",
        "        \n",
        "          fw.write('Wf='+ str(wf) + \"\\n\")\n",
        "          fw.write('Mf='+ str(mf) + \"\\n\")\n",
        "          fw.write('Vf='+ str(vf) + \"\\n\")\n",
        "\n",
        "          fw.write('within class variance='+ str(V2w) + \"\\n\")\n",
        "          fw.write('between class variance=' + str(V2b) + \"\\n\")\n",
        "          fw.write(\"\\n\")\n",
        "        \n",
        "          if not math.isnan(V2w):\n",
        "              threshold_values[i] = V2w\n",
        "\n",
        "\n",
        "  def get_optimal_threshold():\n",
        "      min_V2w = min(threshold_values.values())\n",
        "      optimal_threshold = [k for k, v in threshold_values.items() if v == min_V2w]\n",
        "      print ('optimal threshold', optimal_threshold[0])\n",
        "      return optimal_threshold[0]\n",
        "\n",
        "\n",
        "\n",
        "  h = Hist(img)\n",
        "  threshold(h)\n",
        "  op_thres = get_optimal_threshold()\n",
        "\n",
        "  res = regenerate_img(img, op_thres)\n",
        "  plt.imshow(res)\n",
        "\n",
        "  cv2.imwrite(\"/content/drive/MyDrive/Otsu/Otsu\"+str(img_number)+\".jpg\",res)\n",
        "  img_number += 1\n"
      ],
      "execution_count": null,
      "outputs": [
        {
          "output_type": "stream",
          "name": "stdout",
          "text": [
            "/content/drive/MyDrive/isic-challenge-2018/ISIC2018_Task1-2_Training_Input/ISIC_0013275.jpg\n"
          ]
        },
        {
          "output_type": "display_data",
          "data": {
            "image/png": "[encoded data removed]",
            "text/plain": [
              "<Figure size 432x288 with 1 Axes>"
            ]
          },
          "metadata": {
            "needs_background": "light"
          }
        },
        {
          "output_type": "stream",
          "name": "stderr",
          "text": [
            "/usr/local/lib/python3.7/dist-packages/ipykernel_launcher.py:51: RuntimeWarning: invalid value encountered in double_scalars\n"
          ]
        },
        {
          "output_type": "stream",
          "name": "stdout",
          "text": [
            "optimal threshold 120\n",
            "/content/drive/MyDrive/isic-challenge-2018/ISIC2018_Task1-2_Training_Input/ISIC_0013271.jpg\n"
          ]
        },
        {
          "output_type": "display_data",
          "data": {
            "image/png": "[encoded data removed]",
            "text/plain": [
              "<Figure size 432x288 with 1 Axes>"
            ]
          },
          "metadata": {
            "needs_background": "light"
          }
        },
        {
          "output_type": "stream",
          "name": "stdout",
          "text": [
            "optimal threshold 135\n",
            "/content/drive/MyDrive/isic-challenge-2018/ISIC2018_Task1-2_Training_Input/ISIC_0013274.jpg\n"
          ]
        },
        {
          "output_type": "display_data",
          "data": {
            "image/png": "[encoded data removed]",
            "text/plain": [
              "<Figure size 432x288 with 1 Axes>"
            ]
          },
          "metadata": {
            "needs_background": "light"
          }
        },
        {
          "output_type": "stream",
          "name": "stdout",
          "text": [
            "optimal threshold 112\n",
            "/content/drive/MyDrive/isic-challenge-2018/ISIC2018_Task1-2_Training_Input/ISIC_0013291.jpg\n"
          ]
        },
        {
          "output_type": "display_data",
          "data": {
            "image/png": "[encoded data removed]",
            "text/plain": [
              "<Figure size 432x288 with 1 Axes>"
            ]
          },
          "metadata": {
            "needs_background": "light"
          }
        },
        {
          "output_type": "stream",
          "name": "stdout",
          "text": [
            "optimal threshold 129\n",
            "/content/drive/MyDrive/isic-challenge-2018/ISIC2018_Task1-2_Training_Input/ISIC_0013288.jpg\n"
          ]
        },
        {
          "output_type": "display_data",
          "data": {
            "image/png": "[encoded data removed]",
            "text/plain": [
              "<Figure size 432x288 with 1 Axes>"
            ]
          },
          "metadata": {
            "needs_background": "light"
          }
        },
        {
          "output_type": "stream",
          "name": "stdout",
          "text": [
            "optimal threshold 120\n",
            "/content/drive/MyDrive/isic-challenge-2018/ISIC2018_Task1-2_Training_Input/ISIC_0013287.jpg\n"
          ]
        },
        {
          "output_type": "display_data",
          "data": {
            "image/png": "[encoded data removed]",
            "text/plain": [
              "<Figure size 432x288 with 1 Axes>"
            ]
          },
          "metadata": {
            "needs_background": "light"
          }
        },
        {
          "output_type": "stream",
          "name": "stdout",
          "text": [
            "optimal threshold 130\n",
            "/content/drive/MyDrive/isic-challenge-2018/ISIC2018_Task1-2_Training_Input/ISIC_0013277.jpg\n"
          ]
        },
        {
          "output_type": "display_data",
          "data": {
            "image/png": "[encoded data removed]",
            "text/plain": [
              "<Figure size 432x288 with 1 Axes>"
            ]
          },
          "metadata": {
            "needs_background": "light"
          }
        },
        {
          "output_type": "stream",
          "name": "stdout",
          "text": [
            "optimal threshold 95\n",
            "/content/drive/MyDrive/isic-challenge-2018/ISIC2018_Task1-2_Training_Input/ISIC_0013302.jpg\n"
          ]
        },
        {
          "output_type": "display_data",
          "data": {
            "image/png": "[encoded data removed]",
            "text/plain": [
              "<Figure size 432x288 with 1 Axes>"
            ]
          },
          "metadata": {
            "needs_background": "light"
          }
        },
        {
          "output_type": "stream",
          "name": "stdout",
          "text": [
            "optimal threshold 136\n",
            "/content/drive/MyDrive/isic-challenge-2018/ISIC2018_Task1-2_Training_Input/ISIC_0013304.jpg\n"
          ]
        },
        {
          "output_type": "display_data",
          "data": {
            "image/png": "[encoded data removed]",
            "text/plain": [
              "<Figure size 432x288 with 1 Axes>"
            ]
          },
          "metadata": {
            "needs_background": "light"
          }
        },
        {
          "output_type": "stream",
          "name": "stdout",
          "text": [
            "optimal threshold 122\n",
            "/content/drive/MyDrive/isic-challenge-2018/ISIC2018_Task1-2_Training_Input/ISIC_0013294.jpg\n"
          ]
        },
        {
          "output_type": "display_data",
          "data": {
            "image/png": "[encoded data removed]",
            "text/plain": [
              "<Figure size 432x288 with 1 Axes>"
            ]
          },
          "metadata": {
            "needs_background": "light"
          }
        },
        {
          "output_type": "stream",
          "name": "stdout",
          "text": [
            "optimal threshold 114\n",
            "/content/drive/MyDrive/isic-challenge-2018/ISIC2018_Task1-2_Training_Input/ISIC_0013306.jpg\n"
          ]
        },
        {
          "output_type": "display_data",
          "data": {
            "image/png": "[encoded data removed]",
            "text/plain": [
              "<Figure size 432x288 with 1 Axes>"
            ]
          },
          "metadata": {
            "needs_background": "light"
          }
        },
        {
          "output_type": "stream",
          "name": "stdout",
          "text": [
            "optimal threshold 103\n",
            "/content/drive/MyDrive/isic-challenge-2018/ISIC2018_Task1-2_Training_Input/ISIC_0013310.jpg\n"
          ]
        },
        {
          "output_type": "display_data",
          "data": {
            "image/png": "[encoded data removed]",
            "text/plain": [
              "<Figure size 432x288 with 1 Axes>"
            ]
          },
          "metadata": {
            "needs_background": "light"
          }
        },
        {
          "output_type": "stream",
          "name": "stdout",
          "text": [
            "optimal threshold 142\n",
            "/content/drive/MyDrive/isic-challenge-2018/ISIC2018_Task1-2_Training_Input/ISIC_0013311.jpg\n"
          ]
        },
        {
          "output_type": "display_data",
          "data": {
            "image/png": "[encoded data removed]",
            "text/plain": [
              "<Figure size 432x288 with 1 Axes>"
            ]
          },
          "metadata": {
            "needs_background": "light"
          }
        },
        {
          "output_type": "stream",
          "name": "stdout",
          "text": [
            "optimal threshold 121\n",
            "/content/drive/MyDrive/isic-challenge-2018/ISIC2018_Task1-2_Training_Input/ISIC_0013314.jpg\n"
          ]
        },
        {
          "output_type": "display_data",
          "data": {
            "image/png": "[encoded data removed]",
            "text/plain": [
              "<Figure size 432x288 with 1 Axes>"
            ]
          },
          "metadata": {
            "needs_background": "light"
          }
        },
        {
          "output_type": "stream",
          "name": "stdout",
          "text": [
            "optimal threshold 116\n",
            "/content/drive/MyDrive/isic-challenge-2018/ISIC2018_Task1-2_Training_Input/ISIC_0013315.jpg\n"
          ]
        },
        {
          "output_type": "display_data",
          "data": {
            "image/png": "[encoded data removed]",
            "text/plain": [
              "<Figure size 432x288 with 1 Axes>"
            ]
          },
          "metadata": {
            "needs_background": "light"
          }
        },
        {
          "output_type": "stream",
          "name": "stdout",
          "text": [
            "optimal threshold 121\n",
            "/content/drive/MyDrive/isic-challenge-2018/ISIC2018_Task1-2_Training_Input/ISIC_0013325.jpg\n"
          ]
        },
        {
          "output_type": "display_data",
          "data": {
            "image/png": "[encoded data removed]",
            "text/plain": [
              "<Figure size 432x288 with 1 Axes>"
            ]
          },
          "metadata": {
            "needs_background": "light"
          }
        },
        {
          "output_type": "stream",
          "name": "stdout",
          "text": [
            "optimal threshold 134\n",
            "/content/drive/MyDrive/isic-challenge-2018/ISIC2018_Task1-2_Training_Input/ISIC_0013321.jpg\n"
          ]
        },
        {
          "output_type": "display_data",
          "data": {
            "image/png": "[encoded data removed]",
            "text/plain": [
              "<Figure size 432x288 with 1 Axes>"
            ]
          },
          "metadata": {
            "needs_background": "light"
          }
        },
        {
          "output_type": "stream",
          "name": "stdout",
          "text": [
            "optimal threshold 128\n",
            "/content/drive/MyDrive/isic-challenge-2018/ISIC2018_Task1-2_Training_Input/ISIC_0013320.jpg\n"
          ]
        },
        {
          "output_type": "display_data",
          "data": {
            "image/png": "[encoded data removed]",
            "text/plain": [
              "<Figure size 432x288 with 1 Axes>"
            ]
          },
          "metadata": {
            "needs_background": "light"
          }
        },
        {
          "output_type": "stream",
          "name": "stdout",
          "text": [
            "optimal threshold 138\n",
            "/content/drive/MyDrive/isic-challenge-2018/ISIC2018_Task1-2_Training_Input/ISIC_0013319.jpg\n"
          ]
        },
        {
          "output_type": "display_data",
          "data": {
            "image/png": "[encoded data removed]",
            "text/plain": [
              "<Figure size 432x288 with 1 Axes>"
            ]
          },
          "metadata": {
            "needs_background": "light"
          }
        },
        {
          "output_type": "stream",
          "name": "stdout",
          "text": [
            "optimal threshold 121\n",
            "/content/drive/MyDrive/isic-challenge-2018/ISIC2018_Task1-2_Training_Input/ISIC_0013329.jpg\n"
          ]
        },
        {
          "output_type": "display_data",
          "data": {
            "image/png": "[encoded data removed]",
            "text/plain": [
              "<Figure size 432x288 with 1 Axes>"
            ]
          },
          "metadata": {
            "needs_background": "light"
          }
        },
        {
          "output_type": "stream",
          "name": "stdout",
          "text": [
            "optimal threshold 142\n",
            "/content/drive/MyDrive/isic-challenge-2018/ISIC2018_Task1-2_Training_Input/ISIC_0013326.jpg\n"
          ]
        },
        {
          "output_type": "display_data",
          "data": {
            "image/png": "[encoded data removed]",
            "text/plain": [
              "<Figure size 432x288 with 1 Axes>"
            ]
          },
          "metadata": {
            "needs_background": "light"
          }
        },
        {
          "output_type": "stream",
          "name": "stdout",
          "text": [
            "optimal threshold 139\n",
            "/content/drive/MyDrive/isic-challenge-2018/ISIC2018_Task1-2_Training_Input/ISIC_0013330.jpg\n"
          ]
        },
        {
          "output_type": "display_data",
          "data": {
            "image/png": "[encoded data removed]",
            "text/plain": [
              "<Figure size 432x288 with 1 Axes>"
            ]
          },
          "metadata": {
            "needs_background": "light"
          }
        },
        {
          "output_type": "stream",
          "name": "stdout",
          "text": [
            "optimal threshold 120\n",
            "/content/drive/MyDrive/isic-challenge-2018/ISIC2018_Task1-2_Training_Input/ISIC_0013333.jpg\n"
          ]
        },
        {
          "output_type": "display_data",
          "data": {
            "image/png": "[encoded data removed]",
            "text/plain": [
              "<Figure size 432x288 with 1 Axes>"
            ]
          },
          "metadata": {
            "needs_background": "light"
          }
        },
        {
          "output_type": "stream",
          "name": "stdout",
          "text": [
            "optimal threshold 89\n",
            "/content/drive/MyDrive/isic-challenge-2018/ISIC2018_Task1-2_Training_Input/ISIC_0013334.jpg\n"
          ]
        },
        {
          "output_type": "display_data",
          "data": {
            "image/png": "[encoded data removed]",
            "text/plain": [
              "<Figure size 432x288 with 1 Axes>"
            ]
          },
          "metadata": {
            "needs_background": "light"
          }
        },
        {
          "output_type": "stream",
          "name": "stdout",
          "text": [
            "optimal threshold 189\n",
            "/content/drive/MyDrive/isic-challenge-2018/ISIC2018_Task1-2_Training_Input/ISIC_0013335.jpg\n"
          ]
        },
        {
          "output_type": "display_data",
          "data": {
            "image/png": "[encoded data removed]",
            "text/plain": [
              "<Figure size 432x288 with 1 Axes>"
            ]
          },
          "metadata": {
            "needs_background": "light"
          }
        },
        {
          "output_type": "stream",
          "name": "stdout",
          "text": [
            "optimal threshold 128\n",
            "/content/drive/MyDrive/isic-challenge-2018/ISIC2018_Task1-2_Training_Input/ISIC_0013342.jpg\n"
          ]
        },
        {
          "output_type": "display_data",
          "data": {
            "image/png": "[encoded data removed]",
            "text/plain": [
              "<Figure size 432x288 with 1 Axes>"
            ]
          },
          "metadata": {
            "needs_background": "light"
          }
        },
        {
          "output_type": "stream",
          "name": "stdout",
          "text": [
            "optimal threshold 122\n",
            "/content/drive/MyDrive/isic-challenge-2018/ISIC2018_Task1-2_Training_Input/ISIC_0013341.jpg\n"
          ]
        },
        {
          "output_type": "display_data",
          "data": {
            "image/png": "[encoded data removed]",
            "text/plain": [
              "<Figure size 432x288 with 1 Axes>"
            ]
          },
          "metadata": {
            "needs_background": "light"
          }
        },
        {
          "output_type": "stream",
          "name": "stdout",
          "text": [
            "optimal threshold 126\n",
            "/content/drive/MyDrive/isic-challenge-2018/ISIC2018_Task1-2_Training_Input/ISIC_0013340.jpg\n"
          ]
        },
        {
          "output_type": "display_data",
          "data": {
            "image/png": "[encoded data removed]",
            "text/plain": [
              "<Figure size 432x288 with 1 Axes>"
            ]
          },
          "metadata": {
            "needs_background": "light"
          }
        },
        {
          "output_type": "stream",
          "name": "stdout",
          "text": [
            "optimal threshold 105\n",
            "/content/drive/MyDrive/isic-challenge-2018/ISIC2018_Task1-2_Training_Input/ISIC_0013356.jpg\n"
          ]
        },
        {
          "output_type": "display_data",
          "data": {
            "image/png": "[encoded data removed]",
            "text/plain": [
              "<Figure size 432x288 with 1 Axes>"
            ]
          },
          "metadata": {
            "needs_background": "light"
          }
        },
        {
          "output_type": "stream",
          "name": "stdout",
          "text": [
            "optimal threshold 138\n",
            "/content/drive/MyDrive/isic-challenge-2018/ISIC2018_Task1-2_Training_Input/ISIC_0013355.jpg\n"
          ]
        },
        {
          "output_type": "display_data",
          "data": {
            "image/png": "[encoded data removed]",
            "text/plain": [
              "<Figure size 432x288 with 1 Axes>"
            ]
          },
          "metadata": {
            "needs_background": "light"
          }
        },
        {
          "output_type": "stream",
          "name": "stdout",
          "text": [
            "optimal threshold 129\n",
            "/content/drive/MyDrive/isic-challenge-2018/ISIC2018_Task1-2_Training_Input/ISIC_0013346.jpg\n"
          ]
        },
        {
          "output_type": "display_data",
          "data": {
            "image/png": "[encoded data removed]",
            "text/plain": [
              "<Figure size 432x288 with 1 Axes>"
            ]
          },
          "metadata": {
            "needs_background": "light"
          }
        },
        {
          "output_type": "stream",
          "name": "stdout",
          "text": [
            "optimal threshold 103\n",
            "/content/drive/MyDrive/isic-challenge-2018/ISIC2018_Task1-2_Training_Input/ISIC_0013365.jpg\n"
          ]
        },
        {
          "output_type": "display_data",
          "data": {
            "image/png": "[encoded data removed]",
            "text/plain": [
              "<Figure size 432x288 with 1 Axes>"
            ]
          },
          "metadata": {
            "needs_background": "light"
          }
        },
        {
          "output_type": "stream",
          "name": "stdout",
          "text": [
            "optimal threshold 115\n",
            "/content/drive/MyDrive/isic-challenge-2018/ISIC2018_Task1-2_Training_Input/ISIC_0013359.jpg\n"
          ]
        },
        {
          "output_type": "display_data",
          "data": {
            "image/png": "[encoded data removed]",
            "text/plain": [
              "<Figure size 432x288 with 1 Axes>"
            ]
          },
          "metadata": {
            "needs_background": "light"
          }
        },
        {
          "output_type": "stream",
          "name": "stdout",
          "text": [
            "optimal threshold 126\n",
            "/content/drive/MyDrive/isic-challenge-2018/ISIC2018_Task1-2_Training_Input/ISIC_0013360.jpg\n"
          ]
        },
        {
          "output_type": "display_data",
          "data": {
            "image/png": "[encoded data removed]",
            "text/plain": [
              "<Figure size 432x288 with 1 Axes>"
            ]
          },
          "metadata": {
            "needs_background": "light"
          }
        },
        {
          "output_type": "stream",
          "name": "stdout",
          "text": [
            "optimal threshold 113\n",
            "/content/drive/MyDrive/isic-challenge-2018/ISIC2018_Task1-2_Training_Input/ISIC_0013364.jpg\n"
          ]
        },
        {
          "output_type": "display_data",
          "data": {
            "image/png": "[encoded data removed]",
            "text/plain": [
              "<Figure size 432x288 with 1 Axes>"
            ]
          },
          "metadata": {
            "needs_background": "light"
          }
        },
        {
          "output_type": "stream",
          "name": "stdout",
          "text": [
            "optimal threshold 111\n"
          ]
        },
        {
          "output_type": "error",
          "ename": "KeyboardInterrupt",
          "evalue": "ignored",
          "traceback": [
            "\u001b[0;31m---------------------------------------------------------------------------\u001b[0m",
            "\u001b[0;31mKeyboardInterrupt\u001b[0m                         Traceback (most recent call last)",
            "\u001b[0;32m<ipython-input-6-75f32e760903>\u001b[0m in \u001b[0;36m<module>\u001b[0;34m()\u001b[0m\n\u001b[1;32m    105\u001b[0m   \u001b[0mop_thres\u001b[0m \u001b[0;34m=\u001b[0m \u001b[0mget_optimal_threshold\u001b[0m\u001b[0;34m(\u001b[0m\u001b[0;34m)\u001b[0m\u001b[0;34m\u001b[0m\u001b[0;34m\u001b[0m\u001b[0m\n\u001b[1;32m    106\u001b[0m \u001b[0;34m\u001b[0m\u001b[0m\n\u001b[0;32m--> 107\u001b[0;31m   \u001b[0mres\u001b[0m \u001b[0;34m=\u001b[0m \u001b[0mregenerate_img\u001b[0m\u001b[0;34m(\u001b[0m\u001b[0mimg\u001b[0m\u001b[0;34m,\u001b[0m \u001b[0mop_thres\u001b[0m\u001b[0;34m)\u001b[0m\u001b[0;34m\u001b[0m\u001b[0;34m\u001b[0m\u001b[0m\n\u001b[0m\u001b[1;32m    108\u001b[0m   \u001b[0mplt\u001b[0m\u001b[0;34m.\u001b[0m\u001b[0mimshow\u001b[0m\u001b[0;34m(\u001b[0m\u001b[0mres\u001b[0m\u001b[0;34m)\u001b[0m\u001b[0;34m\u001b[0m\u001b[0;34m\u001b[0m\u001b[0m\n\u001b[1;32m    109\u001b[0m \u001b[0;34m\u001b[0m\u001b[0m\n",
            "\u001b[0;32m<ipython-input-6-75f32e760903>\u001b[0m in \u001b[0;36mregenerate_img\u001b[0;34m(img, threshold)\u001b[0m\n\u001b[1;32m     23\u001b[0m       \u001b[0;32mfor\u001b[0m \u001b[0mi\u001b[0m \u001b[0;32min\u001b[0m \u001b[0mrange\u001b[0m\u001b[0;34m(\u001b[0m\u001b[0;36m0\u001b[0m\u001b[0;34m,\u001b[0m\u001b[0mrow\u001b[0m\u001b[0;34m)\u001b[0m\u001b[0;34m:\u001b[0m\u001b[0;34m\u001b[0m\u001b[0;34m\u001b[0m\u001b[0m\n\u001b[1;32m     24\u001b[0m           \u001b[0;32mfor\u001b[0m \u001b[0mj\u001b[0m \u001b[0;32min\u001b[0m \u001b[0mrange\u001b[0m\u001b[0;34m(\u001b[0m\u001b[0;36m0\u001b[0m\u001b[0;34m,\u001b[0m\u001b[0mcol\u001b[0m\u001b[0;34m)\u001b[0m\u001b[0;34m:\u001b[0m\u001b[0;34m\u001b[0m\u001b[0;34m\u001b[0m\u001b[0m\n\u001b[0;32m---> 25\u001b[0;31m               \u001b[0;32mif\u001b[0m \u001b[0mimg\u001b[0m\u001b[0;34m[\u001b[0m\u001b[0mi\u001b[0m\u001b[0;34m,\u001b[0m\u001b[0mj\u001b[0m\u001b[0;34m]\u001b[0m \u001b[0;34m>=\u001b[0m \u001b[0mthreshold\u001b[0m\u001b[0;34m:\u001b[0m\u001b[0;34m\u001b[0m\u001b[0;34m\u001b[0m\u001b[0m\n\u001b[0m\u001b[1;32m     26\u001b[0m                   \u001b[0my\u001b[0m\u001b[0;34m[\u001b[0m\u001b[0mi\u001b[0m\u001b[0;34m,\u001b[0m\u001b[0mj\u001b[0m\u001b[0;34m]\u001b[0m \u001b[0;34m=\u001b[0m \u001b[0;36m255\u001b[0m\u001b[0;34m\u001b[0m\u001b[0;34m\u001b[0m\u001b[0m\n\u001b[1;32m     27\u001b[0m               \u001b[0;32melse\u001b[0m\u001b[0;34m:\u001b[0m\u001b[0;34m\u001b[0m\u001b[0;34m\u001b[0m\u001b[0m\n",
            "\u001b[0;31mKeyboardInterrupt\u001b[0m: "
          ]
        }
      ]
    },
    {
      "cell_type": "code",
      "metadata": {
        "id": "Oq4IiYO1FfEs"
      },
      "source": [
        ""
      ],
      "execution_count": null,
      "outputs": []
    }
  ]
}